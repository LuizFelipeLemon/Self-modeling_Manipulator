{
  "nbformat": 4,
  "nbformat_minor": 0,
  "metadata": {
    "accelerator": "GPU",
    "colab": {
      "name": "Copy of Copy of Full_Custom_Loss_Generator.ipynb",
      "provenance": [],
      "collapsed_sections": [
        "YcFm6EG-juQz",
        "j5LsUnBfyd9C"
      ],
      "toc_visible": true,
      "mount_file_id": "1R7FxqIiqH1qxUZt3vR4mkM9NsWgDsCeU",
      "authorship_tag": "ABX9TyMN7FkyuAIW/twKcA9VPRwP",
      "include_colab_link": true
    },
    "kernelspec": {
      "display_name": "Python 3",
      "name": "python3"
    },
    "language_info": {
      "name": "python"
    }
  },
  "cells": [
    {
      "cell_type": "markdown",
      "metadata": {
        "id": "view-in-github",
        "colab_type": "text"
      },
      "source": [
        "<a href=\"https://colab.research.google.com/github/LuizFelipeLemon/Self-modeling_Manipulator/blob/main/rede_neural.ipynb\" target=\"_parent\"><img src=\"https://colab.research.google.com/assets/colab-badge.svg\" alt=\"Open In Colab\"/></a>"
      ]
    },
    {
      "cell_type": "markdown",
      "metadata": {
        "id": "lEJo70aDiXV7"
      },
      "source": [
        "# Simulação de Manipulador Auto-modelável\n",
        "\n",
        "**Author:** [Luiz Felipe Santana de Araujo Souza](https://github.com/LuizFelipeLemon)<br>\n",
        "**Orientador:** [Prof. Dr. Orivaldo Vieira de Santana Jr](https://pessoal.ect.ufrn.br/~orivaldo/wordpress/)<br>\n",
        "**Date created:** 14/04/21<br>\n",
        "**Description:** Algoritmo de machine learning que permite um Panda Arm aprender um modelo próprio de sua estrutura."
      ]
    },
    {
      "cell_type": "markdown",
      "metadata": {
        "id": "YcFm6EG-juQz"
      },
      "source": [
        "# Setup"
      ]
    },
    {
      "cell_type": "code",
      "metadata": {
        "id": "yYOgKQ9IG557"
      },
      "source": [
        "import tensorflow as tf\n",
        "from tensorflow import keras\n",
        "from tensorflow.keras import layers\n",
        "import numpy as np\n",
        "import tensorflow_datasets as tfds\n",
        "from sklearn.preprocessing import MinMaxScaler\n",
        "import math\n",
        "import datetime\n",
        "import pandas as pd\n",
        "from io import StringIO\n",
        "import time\n",
        "\n",
        "np.set_printoptions(threshold=np.inf)\n"
      ],
      "execution_count": null,
      "outputs": []
    },
    {
      "cell_type": "markdown",
      "metadata": {
        "id": "qVY2prXskIlP"
      },
      "source": [
        "# Coleta de Dados\n",
        "\n",
        "O projeto aqui apresentado é composto por um algoritmo de aprendizagem profunda e um manipulador robótico em ambiente simulado. Inicialmente é necessária uma coleta de dados de movimentações realizadas pelo manipulador ([link](https://app.theconstructsim.com/#/)), fornecendo informações para o algoritmo realizar seu treinamento.  \n",
        "\n",
        "É necessário cricar uma conta para que se possa encontrar o repositório deste projeto. Com a conta criada vá em `Public Rosjects` e busque por `Simulação de Manipulador Auto-modelável` e clone o respositório mostrado abaixo. \n",
        "\n",
        "\n",
        "> > > > ![img0001.png](https://raw.githubusercontent.com/LuizFelipeLemon/Self-modeling_Manipulator/main/img0001.png)\n",
        "\n",
        "\n",
        "\n",
        "\n",
        "\n",
        "\n",
        "\n",
        "Siga as instruções o tópico Collect_data que, ao final, um csv com os pontos coletados será retornado. \n",
        "\n",
        "Os arquivos utilizados durante o desenvolvimento do trabalho também estão disponíveis no [repositório do projeto].(https://github.com/LuizFelipeLemon/Self-modeling_Manipulator)\n"
      ]
    },
    {
      "cell_type": "code",
      "metadata": {
        "id": "I7yAMpgFH15K"
      },
      "source": [
        "# Cria os normalizadores de dados\n",
        "scaler = MinMaxScaler(feature_range=(-1,1))\n",
        "scaler_input = MinMaxScaler(feature_range=(-1,1))\n",
        "scaler_output = MinMaxScaler(feature_range=(-1,1))\n",
        "TRANING_RATIO = .8\n",
        "BUFFER_LEN = 14\n",
        "#SEQUENCE_LEN = 5\n"
      ],
      "execution_count": null,
      "outputs": []
    },
    {
      "cell_type": "code",
      "metadata": {
        "id": "HTv69niwIFhs"
      },
      "source": [
        "def load_data():\n",
        "\n",
        "  #load the dataset and scales it\n",
        "  dataset = pd.read_csv('full.CSV') # Dataset Completo\n",
        "\n",
        "  input_data = dataset.loc[:, [\"joint1_pos\",\"joint2_pos\",\"joint3_pos\",\"joint4_pos\",\"joint5_pos\",\"joint6_pos\",\"joint7_pos\", \"x\", \"y\", \"z\", \"joint1_action\",\"joint2_action\",\"joint3_action\",\"joint4_action\",\"joint5_action\",\"joint6_action\",\"joint7_action\"]]\n",
        "  next_states = dataset.loc[:, [\"nxt_joint1_pos\",\"nxt_joint2_pos\",\"nxt_joint3_pos\",\"nxt_joint4_pos\",\"nxt_joint5_pos\",\"nxt_joint6_pos\",\"nxt_joint7_pos\", \"nxt_x\", \"nxt_y\", \"nxt_z\"]]\n",
        "    \n",
        "  raw_data = np.append(input_data.to_numpy(),next_states.to_numpy(),axis=1)\n",
        "\n",
        "  input_scaled  = scaler_input.fit_transform(input_data) \n",
        "  next_states_scaled = scaler_output.fit_transform(next_states)\n",
        "\n",
        "  data = np.append(input_scaled,next_states_scaled,axis=1)\n",
        "\n",
        "  # Create the Training dataset\n",
        "  training_data_len = math.ceil(len(dataset) * TRANING_RATIO)\n",
        "  test_data_len = len(dataset) - training_data_len\n",
        "\n",
        "  train_data = data[0:training_data_len,:] \n",
        "  test_data  = data[training_data_len:, :]\n",
        "\n",
        "  x_train = []\n",
        "  y_train = []\n",
        "  x_test  = []\n",
        "  y_test  = []\n",
        "\n",
        "  print(input_scaled.shape)\n",
        "  print(next_states_scaled.shape)\n",
        "\n",
        "  # Cria Batches de dados, seguindo a estrutura descrita no TCC\n",
        "  for i in range(BUFFER_LEN,len(train_data)):\n",
        "    x_train.append(train_data[i-BUFFER_LEN:i,0:input_scaled.shape[1]])\n",
        "    temp = []\n",
        "    for j in range(i-4,i+1):\n",
        "      temp.append(train_data[j, input_scaled.shape[1]:])\n",
        "    y_train.append(temp)\n",
        "    \n",
        "  \n",
        "  for i in range(BUFFER_LEN,test_data_len):\n",
        "    x_test.append(test_data[i-BUFFER_LEN:i,0:input_scaled.shape[1]]) \n",
        "    temp = []\n",
        "    for j in range(i-4,i+1):\n",
        "      temp.append(test_data[j, input_scaled.shape[1]:])\n",
        "    y_test.append(temp)\n",
        "\n",
        "  x_train, y_train = np.asarray(x_train), np.asarray(y_train) \n",
        "  x_test, y_test = np.asarray(x_test), np.asarray(y_test)\n",
        "  \n",
        "  return (x_train, y_train) , (x_test, y_test)\n",
        "  \n",
        "\n"
      ],
      "execution_count": null,
      "outputs": []
    },
    {
      "cell_type": "code",
      "metadata": {
        "id": "iPd6DiEKGWQF"
      },
      "source": [
        "# Cria os conjuntos de treinamento e Validação\n",
        "(x_train , y_train) , (x_test , y_test) = load_data()"
      ],
      "execution_count": null,
      "outputs": []
    },
    {
      "cell_type": "markdown",
      "metadata": {
        "id": "UoHH2gtGspu1"
      },
      "source": [
        "# Treinamento"
      ]
    },
    {
      "cell_type": "code",
      "metadata": {
        "id": "aqIyqwM1JqIS"
      },
      "source": [
        "l_s = 5 # Variável que define o tamanho do conjunto de estados que serão estimados\n",
        "\n",
        "#Define a estrutura da rede neural\n",
        "generator = keras.Sequential(\n",
        "    [\n",
        "     \n",
        "        keras.Input(shape=(x_train.shape[1] - (l_s - 1), x_train.shape[2])),\n",
        "        layers.BatchNormalization(),\n",
        "        layers.GRU(1024, return_sequences=True, return_state=False, unroll=True, dtype=tf.float32),\n",
        "        layers.Permute((2,1)),\n",
        "        layers.Conv1D(64, 3),\n",
        "        layers.Conv1D(32, 1),\n",
        "        layers.Flatten(),\n",
        "        layers.BatchNormalization(),\n",
        "        layers.Dense(512),\n",
        "        layers.Dropout(0.5),\n",
        "        layers.Activation('relu'),\n",
        "        layers.BatchNormalization(),\n",
        "        layers.Dense(256),\n",
        "        layers.Dropout(0.5),\n",
        "        layers.Activation('relu'),\n",
        "        layers.BatchNormalization(),\n",
        "        layers.Dense(128),\n",
        "        layers.Dropout(0.5),\n",
        "        layers.Activation('relu'),\n",
        "        layers.BatchNormalization(),\n",
        "        layers.Dense(256),\n",
        "        layers.Dropout(0.5),\n",
        "        layers.Activation('relu'),\n",
        "        layers.BatchNormalization(),\n",
        "        layers.Dense(512),\n",
        "        layers.Dropout(0.5),\n",
        "        layers.Activation('relu'),\n",
        "        layers.BatchNormalization(),\n",
        "        layers.Dense(y_train.shape[2] ,activation='tanh'),\n",
        "    ],\n",
        "    name=\"generator\",\n",
        ")\n",
        "\n",
        "generator.summary()"
      ],
      "execution_count": null,
      "outputs": []
    },
    {
      "cell_type": "code",
      "metadata": {
        "id": "qdxISfO3s4ys"
      },
      "source": [
        "# Definição da função de perda personalizada\n",
        "def my_loss_fn(y_true, y_pred):\n",
        "    x = tf.cast(y_true[4:],tf.float32)\n",
        "    y = tf.cast(y_pred[4:],tf.float32)\n",
        "    euclidean_norm = tf.norm(tf.math.subtract(x, y))\n",
        "    return euclidean_norm"
      ],
      "execution_count": null,
      "outputs": []
    },
    {
      "cell_type": "code",
      "metadata": {
        "id": "F9DNK0yBJqIS"
      },
      "source": [
        "# Instacia otimizadores\n",
        "g_optimizer = keras.optimizers.Adam(learning_rate=0.00005)\n",
        "\n",
        "# Instacia a função de perda\n",
        "loss_fn = my_loss_fn\n",
        "\n",
        "# Prepara as metricas.\n",
        "train_acc_metric = keras.metrics.MeanSquaredError()\n",
        "val_acc_metric = keras.metrics.MeanSquaredError()\n",
        "\n",
        "state_dim = 10\n",
        "action_dim = 7\n",
        "\n",
        "# Define a função que realizará o treinamento do modelo\n",
        "@tf.function\n",
        "def train_step(x, y):\n",
        "\n",
        "    entrada = []\n",
        "    saida = []\n",
        "\n",
        "    x = tf.cast(x,tf.float32)\n",
        "\n",
        "    states, actions  = tf.split(x, [state_dim, action_dim], 2)\n",
        "    states_buffer = states[:,0:10,:]\n",
        "    actions_buffer = actions[:,0:10,:]                                      \n",
        "\n",
        "    tempx_0 = tf.concat([states[:,0:10,:], actions[:,0:10,:]], 2)\n",
        "\n",
        "    entrada.append(tempx_0)\n",
        "\n",
        "    tempy_0 = y[:, 0, :]\n",
        "\n",
        "    with tf.GradientTape() as tape:\n",
        "        y_hat = generator(tempx_0)\n",
        "        g_loss = loss_fn(tf.squeeze(tempy_0), y_hat)\n",
        "        saida.append(y_hat)\n",
        "\n",
        "        for i in range(l_s):\n",
        "          # pop buffer\n",
        "          states_buffer = states_buffer[:, 1:, :] \n",
        "          # Insere a estimativa\n",
        "          states_buffer = tf.concat([states_buffer, tf.expand_dims(y_hat, axis=1)], 1) \n",
        "          # Constrói a entrada\n",
        "          tempx = tf.concat([states_buffer, actions[:,i+1 : 11+i,:]], 2) \n",
        "\n",
        "          tempy = y[:, i+1, :] # mount goal\n",
        "\n",
        "          y_hat = generator(tempx)\n",
        "          g_loss += loss_fn(tempy, y_hat)\n",
        "          saida.append(y_hat)\n",
        "\n",
        "          # Update training metric.\n",
        "          train_acc_metric.update_state(tempy, y_hat)\n",
        "\n",
        "\n",
        "    grads = tape.gradient(g_loss, generator.trainable_weights)\n",
        "    g_optimizer.apply_gradients(zip(grads, generator.trainable_weights))\n",
        "\n",
        "     \n",
        "\n",
        "\n",
        "    return  g_loss, saida"
      ],
      "execution_count": null,
      "outputs": []
    },
    {
      "cell_type": "code",
      "metadata": {
        "id": "w5mMJQPhXCfj"
      },
      "source": [
        "# Define a função de validação\n",
        "@tf.function\n",
        "def test_step(x, y):\n",
        "  \n",
        "    entrada = []\n",
        "    saida = []\n",
        "\n",
        "    x = tf.cast(x,tf.float32)\n",
        "\n",
        "    states, actions  = tf.split(x, [state_dim, action_dim], 2)\n",
        "    states_buffer = states[:,0:10,:]\n",
        "    actions_buffer = actions[:,0:10,:]                                      \n",
        "\n",
        "    tempx_0 = tf.concat([states[:,0:10,:], actions[:,0:10,:]], 2)\n",
        "\n",
        "    entrada.append(tempx_0)\n",
        "\n",
        "    tempy_0 = y[:, 0, :]\n",
        "\n",
        "\n",
        "    y_hat = generator(tempx_0, training=False)\n",
        "    g_loss = loss_fn(tf.squeeze(tempy_0), y_hat)\n",
        "    saida.append(y_hat)\n",
        "    val_acc_metric.update_state(tf.squeeze(tempy_0), y_hat) \n",
        "\n",
        "    for i in range(l_s):\n",
        "      # pop buffer\n",
        "          states_buffer = states_buffer[:, 1:, :] \n",
        "          # Insere a estimativa\n",
        "          states_buffer = tf.concat([states_buffer, tf.expand_dims(y_hat, axis=1)], 1) \n",
        "          # Constrói a entrada\n",
        "          tempx = tf.concat([states_buffer, actions[:,i+1 : 11+i,:]], 2) \n",
        "\n",
        "      tempy = y[:, i+1, :] # mount goal\n",
        "      saida.append(tempy)\n",
        "\n",
        "      y_hat = generator(tempx, training=False)\n",
        "      g_loss += loss_fn(tempy, y_hat)\n",
        "      saida.append(y_hat)\n",
        "      val_acc_metric.update_state(tempy, y_hat)\n",
        "\n",
        "    return  g_loss, saida"
      ],
      "execution_count": null,
      "outputs": []
    },
    {
      "cell_type": "code",
      "metadata": {
        "id": "SrdIwpYv2iqc"
      },
      "source": [
        "# Função experimental\n",
        "@tf.function\n",
        "def test_step2(x, y):\n",
        "  \n",
        "    entrada = []\n",
        "    saida = []\n",
        "\n",
        "    x = tf.cast(x,tf.float32)\n",
        "\n",
        "    states, actions  = tf.split(x, [state_dim, action_dim], 2)\n",
        "    states_buffer = states[:,0:10,:]\n",
        "    actions_buffer = actions[:,0:10,:]                                      \n",
        "    #print(\"Separei em states e actions: \", states.shape, actions.shape)\n",
        "\n",
        "    tempx_0 = tf.concat([states[:,0:10,:], actions[:,0:10,:]], 2)\n",
        "    #print(\"Primeira entrada: \", tempx_0.shape)\n",
        "\n",
        "    entrada.append(tempx_0)\n",
        "\n",
        "    tempy_0 = y[:, 0, :]\n",
        "    #print(\"Primeira saída esperada: \", tempy_0.shape)  \n",
        "\n",
        "    #saida.append(tf.squeeze(tempy_0))\n",
        "\n",
        "    y_hat = generator(tempx_0, training=False)\n",
        "    g_loss = loss_fn(tempy_0, y_hat)\n",
        "    saida.append(y_hat)\n",
        "\n",
        "    for i in range(l_s):\n",
        "      states_buffer = states_buffer[:, 1:, :] # pop\n",
        "      states_buffer = tf.concat([states_buffer, tf.expand_dims(y_hat, axis=1)], 1) # Insert prediction\n",
        "      tempx = tf.concat([states_buffer, actions[:,i+1 : 11+i,:]], 2) # mount input\n",
        "\n",
        "      tempy = y[:, i+1, :] # mount goal\n",
        "      #saida.append(tempy)\n",
        "\n",
        "      y_hat = generator(tempx, training=False)\n",
        "      g_loss += loss_fn(tempy, y_hat)\n",
        "      saida.append(y_hat)\n",
        "      val_acc_metric.update_state(tempy, y_hat)\n",
        "\n",
        "    return  g_loss, saida"
      ],
      "execution_count": null,
      "outputs": []
    },
    {
      "cell_type": "code",
      "metadata": {
        "id": "9_vh-c4rRXk2"
      },
      "source": [
        "import os\n",
        "\n",
        "# Prepare the dataset. We use both the training\n",
        "batch_size = 32\n",
        "\n",
        "train_dataset = tf.data.Dataset.from_tensor_slices((x_train, y_train))\n",
        "train_dataset = train_dataset.batch(batch_size)\n",
        "\n",
        "val_dataset = tf.data.Dataset.from_tensor_slices((x_test , y_test))\n",
        "val_dataset = val_dataset.batch(batch_size)\n"
      ],
      "execution_count": null,
      "outputs": []
    },
    {
      "cell_type": "code",
      "metadata": {
        "colab": {
          "base_uri": "https://localhost:8080/"
        },
        "id": "zkeUSHjDJqIT",
        "outputId": "882aa47a-6d52-4e29-bc0f-3e370dccb2af"
      },
      "source": [
        "epochs = 10 \n",
        "save_dir = \"./\"\n",
        "MSE_list = []\n",
        "val_MSE_list = []\n",
        "\n",
        "for epoch in range(epochs):\n",
        "    print(\"\\nPrimeira Época\", epoch)\n",
        "    start_time = time.time()\n",
        "    for step, input in enumerate(train_dataset):\n",
        "        g_loss, generated_predictions = train_step(input[0], input[1])\n",
        "\n",
        "        # Logging.\n",
        "        if step % 500 == 0:\n",
        "            # Print metrics\n",
        "            print(\"Perda por passo: %d: %.2f\" % (step, g_loss))\n",
        "        \n",
        "    # Display metrics at the end of each epoch.\n",
        "    train_acc = train_acc_metric.result()\n",
        "    print(\"MSE de treinamento  por época: %.4f\" % (float(train_acc),))\n",
        "    MSE_list.append(float(train_acc))\n",
        "\n",
        "    # Reset training metrics at the end of each epoch\n",
        "    train_acc_metric.reset_states()\n",
        "    print(\"empo por época: %.2fs\" % (time.time() - start_time))\n",
        "\n",
        "    for step, input in enumerate(val_dataset):\n",
        "      g_loss, estimate = test_step(input[0], input[1])\n",
        "\n",
        "    val_acc = val_acc_metric.result()\n",
        "    val_MSE_list.append(float(val_acc))\n",
        "    val_acc_metric.reset_states()\n",
        "    print(\"Erro de validação (MSE): %.4f\" % (float(val_acc),))\n"
      ],
      "execution_count": null,
      "outputs": [
        {
          "output_type": "stream",
          "text": [
            "\n",
            "Start epoch 0\n",
            "adversarial loss at step 0: 39.78\n",
            "adversarial loss at step 500: 27.23\n",
            "Training MSE over epoch: 0.1583\n",
            "Time per epoch: 42.24s\n",
            "Validation MSE: 0.1170\n",
            "\n",
            "Start epoch 1\n",
            "adversarial loss at step 0: 25.63\n",
            "adversarial loss at step 500: 26.05\n",
            "Training MSE over epoch: 0.1213\n",
            "Time per epoch: 29.83s\n",
            "Validation MSE: 0.1109\n",
            "\n",
            "Start epoch 2\n",
            "adversarial loss at step 0: 24.41\n",
            "adversarial loss at step 500: 25.79\n",
            "Training MSE over epoch: 0.1163\n",
            "Time per epoch: 29.82s\n",
            "Validation MSE: 0.1092\n",
            "\n",
            "Start epoch 3\n",
            "adversarial loss at step 0: 23.82\n",
            "adversarial loss at step 500: 25.54\n",
            "Training MSE over epoch: 0.1132\n",
            "Time per epoch: 29.81s\n",
            "Validation MSE: 0.1082\n",
            "\n",
            "Start epoch 4\n",
            "adversarial loss at step 0: 23.50\n",
            "adversarial loss at step 500: 25.12\n",
            "Training MSE over epoch: 0.1107\n",
            "Time per epoch: 29.78s\n",
            "Validation MSE: 0.1081\n",
            "\n",
            "Start epoch 5\n",
            "adversarial loss at step 0: 23.19\n",
            "adversarial loss at step 500: 24.79\n",
            "Training MSE over epoch: 0.1085\n",
            "Time per epoch: 29.79s\n",
            "Validation MSE: 0.1083\n",
            "\n",
            "Start epoch 6\n",
            "adversarial loss at step 0: 22.83\n",
            "adversarial loss at step 500: 24.48\n",
            "Training MSE over epoch: 0.1065\n",
            "Time per epoch: 29.82s\n",
            "Validation MSE: 0.1089\n",
            "\n",
            "Start epoch 7\n",
            "adversarial loss at step 0: 22.55\n",
            "adversarial loss at step 500: 24.30\n",
            "Training MSE over epoch: 0.1046\n",
            "Time per epoch: 29.81s\n",
            "Validation MSE: 0.1094\n",
            "\n",
            "Start epoch 8\n",
            "adversarial loss at step 0: 22.33\n",
            "adversarial loss at step 500: 24.12\n",
            "Training MSE over epoch: 0.1026\n",
            "Time per epoch: 29.81s\n",
            "Validation MSE: 0.1104\n",
            "\n",
            "Start epoch 9\n",
            "adversarial loss at step 0: 22.01\n",
            "adversarial loss at step 500: 23.90\n",
            "Training MSE over epoch: 0.1007\n",
            "Time per epoch: 29.83s\n",
            "Validation MSE: 0.1112\n"
          ],
          "name": "stdout"
        }
      ]
    },
    {
      "cell_type": "code",
      "metadata": {
        "colab": {
          "base_uri": "https://localhost:8080/",
          "height": 297
        },
        "id": "TRl5buNxtxqb",
        "outputId": "0006b670-672e-4935-cdfa-9adf8bb14f11"
      },
      "source": [
        "import matplotlib\n",
        "import matplotlib.pyplot as plt\n",
        "import numpy as np\n",
        "\n",
        "# Data for plotting\n",
        "t = np.arange(0, epochs)\n",
        "\n",
        "fig, (ax1, ax2) = plt.subplots(2)\n",
        "ax1.set(title='Erro médio quadrático de treinamento')\n",
        "ax1.label_outer()\n",
        "ax2.set(xlabel='Épocas',\n",
        "       title='Erro médio quadrático de validação')\n",
        "ax1.plot(t, MSE_list)\n",
        "ax2.plot(t, val_MSE_list)\n",
        "\n",
        "fig.savefig(\"/content/drive/MyDrive/TCC/hum.png\")"
      ],
      "execution_count": null,
      "outputs": [
        {
          "output_type": "display_data",
          "data": {
            "image/png": "[encoded data removed]",
            "text/plain": [
              "<Figure size 432x288 with 2 Axes>"
            ]
          },
          "metadata": {
            "tags": [],
            "needs_background": "light"
          }
        }
      ]
    },
    {
      "cell_type": "code",
      "metadata": {
        "colab": {
          "base_uri": "https://localhost:8080/"
        },
        "id": "uR32H6PPofU0",
        "outputId": "ed60e40d-7561-4f8c-dde3-98f4568a26cd"
      },
      "source": [
        "val_MSE_list.index(min(val_MSE_list))\n",
        "print(val_MSE_list[3:10])"
      ],
      "execution_count": null,
      "outputs": [
        {
          "output_type": "stream",
          "text": [
            "[0.10822498798370361, 0.10806987434625626, 0.1083129271864891, 0.10889571905136108, 0.10936591029167175, 0.11037523299455643, 0.11122942715883255]\n"
          ],
          "name": "stdout"
        }
      ]
    },
    {
      "cell_type": "code",
      "metadata": {
        "colab": {
          "base_uri": "https://localhost:8080/",
          "height": 297
        },
        "id": "LWEjchWDF13M",
        "outputId": "1ec73491-7998-4c9f-eb91-349571571da5"
      },
      "source": [
        "import matplotlib\n",
        "import matplotlib.pyplot as plt\n",
        "import numpy as np\n",
        "\n",
        "# Data for plotting\n",
        "t = np.arange(0, epochs)\n",
        "\n",
        "\n",
        "fig, ax = plt.subplots()\n",
        "ax.plot(t, MSE_list)\n",
        "\n",
        "ax.set(xlabel='Épocas', ylabel='Erro médio quadrático',\n",
        "       title='Erro médio quadrático de treinamento')\n",
        "ax.grid()\n",
        "\n",
        "fig.savefig(\"/content/drive/MyDrive/TCC/full_dataset.png\")\n",
        "plt.show()"
      ],
      "execution_count": null,
      "outputs": [
        {
          "output_type": "display_data",
          "data": {
            "image/png": "[encoded data removed]",
            "text/plain": [
              "<Figure size 432x288 with 1 Axes>"
            ]
          },
          "metadata": {
            "tags": [],
            "needs_background": "light"
          }
        }
      ]
    },
    {
      "cell_type": "code",
      "metadata": {
        "colab": {
          "base_uri": "https://localhost:8080/"
        },
        "id": "sjWfhIkXWT7h",
        "outputId": "f1a48bbe-0974-4757-9f65-ab8896002201"
      },
      "source": [
        "# Run a validation loop\n",
        "x = []\n",
        "y = []\n",
        "est = []\n",
        "\n",
        "for step, input in enumerate(val_dataset):\n",
        "    g_loss, estimate = test_step(input[0], input[1])\n",
        "\n",
        "val_acc = val_acc_metric.result()\n",
        "val_acc_metric.reset_states()\n",
        "print(\"Erro de validação (MSE): %.4f\" % (float(val_acc),))"
      ],
      "execution_count": null,
      "outputs": [
        {
          "output_type": "stream",
          "text": [
            "Validation MSE: 0.1112\n",
            "Time taken: 35.01s\n"
          ],
          "name": "stdout"
        }
      ]
    },
    {
      "cell_type": "markdown",
      "metadata": {
        "id": "mvFslG26xSLC"
      },
      "source": [
        "# Validação\n",
        "\n",
        "Nesta etapa, são remontados o cojunto de validação junto com as estimativas, realizando a desnormalização dos dados para que estes possam ser inseridos na simulação.\n",
        "\n",
        "Os arquivos resultantes devem ser baixados e inseridos no repositório no The Construct"
      ]
    },
    {
      "cell_type": "code",
      "metadata": {
        "colab": {
          "base_uri": "https://localhost:8080/"
        },
        "id": "MU63MIrECcRX",
        "outputId": "1cde9769-11db-4f73-ed23-5409845e0558"
      },
      "source": [
        "test_dataset = tf.data.Dataset.from_tensor_slices((x_test , y_test))\n",
        "x = []\n",
        "y = []\n",
        "est = []\n",
        "\n",
        "for step, input in enumerate(test_dataset):\n",
        "    x_t = tf.expand_dims(input[0], axis=0)\n",
        "    y_t = tf.expand_dims(input[1], axis=0)\n",
        "\n",
        "    g_loss, estimate = test_step2(x_t,y_t )\n",
        "    x.append(input[0])\n",
        "    y.append(input[1])\n",
        "    est.append(estimate)\n",
        "    \n",
        "x_np = np.array(x)\n",
        "y_np = np.array(y)\n",
        "est_np = np.squeeze(np.array(est))\n"
      ],
      "execution_count": null,
      "outputs": [
        {
          "output_type": "stream",
          "text": [
            "(5999, 14, 17)\n",
            "(5999, 5, 10)\n",
            "(5999, 5, 10)\n"
          ],
          "name": "stdout"
        }
      ]
    },
    {
      "cell_type": "code",
      "metadata": {
        "id": "1CD-xtxcMPLD"
      },
      "source": [
        "a  = scaler_input.inverse_transform(x_np.reshape(x_test.shape[0]*14,x_test.shape[2])) \n",
        "b = scaler_output.inverse_transform(y_np.reshape(y_test.shape[0]*5,y_test.shape[2]))\n",
        "c = scaler_output.inverse_transform(est_np.reshape(y_test.shape[0]*5, y_test.shape[2]))"
      ],
      "execution_count": null,
      "outputs": []
    },
    {
      "cell_type": "code",
      "metadata": {
        "colab": {
          "base_uri": "https://localhost:8080/"
        },
        "id": "GtiL182kElpP",
        "outputId": "21bd257d-71f9-48c2-ca24-a9a5676d58ea"
      },
      "source": [
        "\n",
        "\n",
        "x_np2 = a.reshape(x_test.shape[0], 14, 17)\n",
        "y_np2 = b.reshape(y_test.shape[0], 5, 10)\n",
        "est_np2 = c.reshape(y_test.shape[0], 5, 10)\n",
        "\n",
        "np.save('x.npy', x_np2)\n",
        "np.save('y.npy', y_np2)\n",
        "np.save('est.npy', est_np2)"
      ],
      "execution_count": null,
      "outputs": [
        {
          "output_type": "stream",
          "text": [
            "(5999, 14, 17)\n",
            "(5999, 5, 10)\n",
            "(5999, 5, 10)\n"
          ],
          "name": "stdout"
        }
      ]
    },
    {
      "cell_type": "markdown",
      "metadata": {
        "id": "j5LsUnBfyd9C"
      },
      "source": [
        "# Exportar rede\n"
      ]
    },
    {
      "cell_type": "code",
      "metadata": {
        "colab": {
          "base_uri": "https://localhost:8080/"
        },
        "id": "l9ZvhZ8wM5_l",
        "outputId": "3258d553-12f4-46a4-d6a9-1e5a66b9208f"
      },
      "source": [
        "#Exportação\n",
        "from keras.models import Sequential\n",
        "from keras.layers import Dense\n",
        "from keras.models import model_from_json\n",
        "import numpy\n",
        "import os\n",
        "\n",
        "#serialize model to JSON #\n",
        "model_json = generator.to_json()\n",
        "with open(\"/content/drive/MyDrive/TCC/full5pochs_30K_loss_positional.json\", \"w\") as json_file:\n",
        "    json_file.write(model_json)\n",
        "# serialize weights to HDF5\n",
        "generator.save_weights(\"/content/drive/MyDrive/TCC/full5pochs_30K_loss_positional.h5\")\n",
        "print(\"Saved model to disk\")\n",
        " \n",
        "# later...\n"
      ],
      "execution_count": null,
      "outputs": [
        {
          "output_type": "stream",
          "text": [
            "Saved model to disk\n"
          ],
          "name": "stdout"
        }
      ]
    },
    {
      "cell_type": "code",
      "metadata": {
        "id": "sxIZMe6LyydD"
      },
      "source": [
        "#Importação\n",
        "from keras.models import Sequential\n",
        "from keras.layers import Dense\n",
        "from keras.models import model_from_json\n",
        "import numpy\n",
        "import os\n",
        "\n",
        "# load json and create model\n",
        "json_file = open('/content/drive/MyDrive/TCC/full5pochs_30K_loss_positional.json', 'r')\n",
        "loaded_model_json = json_file.read()\n",
        "json_file.close()\n",
        "generator = model_from_json(loaded_model_json)\n",
        "# load weights into new model\n",
        "generator.load_weights(\"/content/drive/MyDrive/TCC/full5epochs_30K_loss_positional.h5\")\n",
        "print(\"Loaded model from disk\")\n",
        " \n"
      ],
      "execution_count": null,
      "outputs": []
    }
  ]
}